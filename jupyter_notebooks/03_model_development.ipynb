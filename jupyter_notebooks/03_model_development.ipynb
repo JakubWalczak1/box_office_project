{
 "cells": [
  {
   "cell_type": "code",
   "execution_count": 1,
   "metadata": {},
   "outputs": [],
   "source": [
    "import numpy as np\n",
    "import pandas as pd\n",
    "import matplotlib.pyplot as plt\n",
    "import seaborn as sns\n",
    "from sklearn.preprocessing import MinMaxScaler\n",
    "from sklearn.linear_model import LinearRegression\n",
    "from sklearn.metrics import mean_absolute_error\n",
    "from sklearn.model_selection import train_test_split, cross_val_score, KFold, RandomizedSearchCV\n",
    "from sklearn.base import clone\n",
    "import scipy.stats as stats\n",
    "from sklearn.ensemble import RandomForestRegressor\n",
    "from sklearn.svm import SVR\n",
    "import tensorflow as tf\n",
    "import keras_tuner as kt\n",
    "import joblib"
   ]
  },
  {
   "cell_type": "markdown",
   "metadata": {},
   "source": [
    "## Preparing features, target"
   ]
  },
  {
   "cell_type": "code",
   "execution_count": 4,
   "metadata": {},
   "outputs": [],
   "source": [
    "# Splitting data into features and target.\n",
    "train_data = pd.read_csv('../data/03_processed_data/clean_train_data.csv')\n",
    "test_data = pd.read_csv('../data/03_processed_data/clean_test_data.csv')\n",
    "\n",
    "def split_and_normalize(df, fit_on_train_data=True, scaler=None):\n",
    "    # Shuffling rows in random order.\n",
    "    df = df.sample(frac = 1, random_state=42)\n",
    "    y = df['Clean box office'].reset_index(drop=True)\n",
    "    X = df.loc[:, df.columns != 'Clean box office']\n",
    "\n",
    "    # Using normalization instead of standarization because some features aren't normally distributed.\n",
    "    if fit_on_train_data:\n",
    "        scaler = MinMaxScaler()\n",
    "        X_scaled = scaler.fit_transform(X)\n",
    "        X_scaled = pd.DataFrame(X_scaled, columns=X.columns)\n",
    "        return X_scaled, y, scaler\n",
    "    else:\n",
    "        X_scaled = scaler.transform(X)\n",
    "        X_scaled = pd.DataFrame(X_scaled, columns=X.columns)\n",
    "        return X_scaled, y\n",
    "\n",
    "\n",
    "X_train, y_train, my_scaler = split_and_normalize(train_data)\n",
    "X_test, y_test = split_and_normalize(test_data, False, my_scaler)"
   ]
  },
  {
   "cell_type": "markdown",
   "metadata": {},
   "source": [
    "Baseline Mean Absolute Error (MAE) for train set"
   ]
  },
  {
   "cell_type": "code",
   "execution_count": 5,
   "metadata": {},
   "outputs": [
    {
     "name": "stdout",
     "output_type": "stream",
     "text": [
      "Baseline Mean Absolute Error (MAE): 117246191\n"
     ]
    }
   ],
   "source": [
    "y_pred= pd.Series(y_train.mean(), index=y_train.index)\n",
    "mae = mean_absolute_error(y_train, y_pred)\n",
    "print('Baseline Mean Absolute Error (MAE):', round(mae))"
   ]
  },
  {
   "cell_type": "markdown",
   "metadata": {},
   "source": [
    "## Linear regression"
   ]
  },
  {
   "cell_type": "code",
   "execution_count": 29,
   "metadata": {},
   "outputs": [],
   "source": [
    "# Linear regression rather won't be good enough predictor for this problem (not all features are lineary dependent)\n",
    "# but it is still good to start with it because because it is fast to make and can provide some additional informations."
   ]
  },
  {
   "cell_type": "code",
   "execution_count": 8,
   "metadata": {},
   "outputs": [
    {
     "data": {
      "text/html": [
       "<div>\n",
       "<style scoped>\n",
       "    .dataframe tbody tr th:only-of-type {\n",
       "        vertical-align: middle;\n",
       "    }\n",
       "\n",
       "    .dataframe tbody tr th {\n",
       "        vertical-align: top;\n",
       "    }\n",
       "\n",
       "    .dataframe thead th {\n",
       "        text-align: right;\n",
       "    }\n",
       "</style>\n",
       "<table border=\"1\" class=\"dataframe\">\n",
       "  <thead>\n",
       "    <tr style=\"text-align: right;\">\n",
       "      <th></th>\n",
       "      <th>Feature</th>\n",
       "      <th>Coefficient</th>\n",
       "    </tr>\n",
       "  </thead>\n",
       "  <tbody>\n",
       "    <tr>\n",
       "      <th>0</th>\n",
       "      <td>Clean budget</td>\n",
       "      <td>1.005282e+09</td>\n",
       "    </tr>\n",
       "    <tr>\n",
       "      <th>1</th>\n",
       "      <td>Previous_movie_box_office</td>\n",
       "      <td>7.770527e+08</td>\n",
       "    </tr>\n",
       "    <tr>\n",
       "      <th>2</th>\n",
       "      <td>Max_prev_box_office_director</td>\n",
       "      <td>2.391539e+08</td>\n",
       "    </tr>\n",
       "    <tr>\n",
       "      <th>3</th>\n",
       "      <td>Running time</td>\n",
       "      <td>1.522556e+08</td>\n",
       "    </tr>\n",
       "    <tr>\n",
       "      <th>4</th>\n",
       "      <td>Streaming</td>\n",
       "      <td>-1.159173e+08</td>\n",
       "    </tr>\n",
       "    <tr>\n",
       "      <th>5</th>\n",
       "      <td>Prev_box_office_actors</td>\n",
       "      <td>1.035472e+08</td>\n",
       "    </tr>\n",
       "    <tr>\n",
       "      <th>6</th>\n",
       "      <td>G</td>\n",
       "      <td>-7.260930e+07</td>\n",
       "    </tr>\n",
       "    <tr>\n",
       "      <th>7</th>\n",
       "      <td>PG</td>\n",
       "      <td>-7.159604e+07</td>\n",
       "    </tr>\n",
       "    <tr>\n",
       "      <th>8</th>\n",
       "      <td>R</td>\n",
       "      <td>-7.039875e+07</td>\n",
       "    </tr>\n",
       "    <tr>\n",
       "      <th>9</th>\n",
       "      <td>Part_of_franchise</td>\n",
       "      <td>6.136819e+07</td>\n",
       "    </tr>\n",
       "  </tbody>\n",
       "</table>\n",
       "</div>"
      ],
      "text/plain": [
       "                        Feature   Coefficient\n",
       "0                  Clean budget  1.005282e+09\n",
       "1     Previous_movie_box_office  7.770527e+08\n",
       "2  Max_prev_box_office_director  2.391539e+08\n",
       "3                  Running time  1.522556e+08\n",
       "4                     Streaming -1.159173e+08\n",
       "5        Prev_box_office_actors  1.035472e+08\n",
       "6                             G -7.260930e+07\n",
       "7                            PG -7.159604e+07\n",
       "8                             R -7.039875e+07\n",
       "9             Part_of_franchise  6.136819e+07"
      ]
     },
     "metadata": {},
     "output_type": "display_data"
    }
   ],
   "source": [
    "# Funtion to create and train linear regression model and check coefficients for every feature.\n",
    "def train_and_coefficients(X_train, y_train):\n",
    "    # The intercept will be excluded from the model since it yielded negative values, which are nonsensical for box office prediction.\n",
    "    lin_reg = LinearRegression(fit_intercept=False)\n",
    "    lin_reg.fit(X_train, y_train)\n",
    "    coefficients = lin_reg.coef_\n",
    "    coefficients_df = pd.DataFrame({'Feature': X_train.columns, 'Coefficient': coefficients})\n",
    "    coefficients_df = coefficients_df.reindex(coefficients_df['Coefficient'].abs().sort_values(ascending=False).index).reset_index(drop=True)\n",
    "    # Displaying best and worst features.\n",
    "    display(coefficients_df.head(10))\n",
    "    return lin_reg\n",
    "\n",
    "# Training first model.\n",
    "lin_reg = train_and_coefficients(X_train, y_train)"
   ]
  },
  {
   "cell_type": "code",
   "execution_count": 9,
   "metadata": {},
   "outputs": [
    {
     "name": "stdout",
     "output_type": "stream",
     "text": [
      "Mean Absolute Error (MAE): 61795074\n",
      "Average MAE (cross-val): 63299093\n",
      "MAE (cross-val): [60862365. 64053567. 68239523. 62153849. 61186164.]\n"
     ]
    },
    {
     "data": {
      "image/png": "[encoded data removed]",
      "text/plain": [
       "<Figure size 1200x600 with 2 Axes>"
      ]
     },
     "metadata": {},
     "output_type": "display_data"
    }
   ],
   "source": [
    "# Due to the presence of significant outliers in the box office results observed during data exploration,\n",
    "# I opted for MAE over RMSE to assess the model's performance.\n",
    "# Additionally, MAE offers greater ease of interpretation, further supporting this choice.\n",
    "def assess_model(model, X, y, logarithmic=False, cross_val_and_print=True, my_cv=5):\n",
    "    \n",
    "    y_pred = model.predict(X)\n",
    "    # If target was logarithmically transformed, then it requires exponential transformation.\n",
    "    # Ultimately I haven't decided on logarithmical transformation of target because after that SVR and ANN models\n",
    "    # performed much worse.\n",
    "    if logarithmic:\n",
    "        y_pred = np.exp(y_pred)\n",
    "        y_exp = np.exp(y)\n",
    "        mae = mean_absolute_error(y_exp, y_pred)\n",
    "    else:\n",
    "        mae = mean_absolute_error(y, y_pred)\n",
    "\n",
    "    # This part executes only if I decide to use cross-validation (so when training the model)\n",
    "    if cross_val_and_print:\n",
    "        print('Mean Absolute Error (MAE):', round(mae))\n",
    "        # Calculating MAE on cross validation.\n",
    "        if logarithmic:\n",
    "            skfolds = KFold(n_splits=my_cv)\n",
    "            cross_mae_scores = []\n",
    "            for train_index, test_index in skfolds.split(X, y):\n",
    "                clone_reg = clone(model)\n",
    "                X_train_folds = X.iloc[train_index, :]\n",
    "                y_train_folds = y.iloc[train_index]\n",
    "                X_test_fold = X.iloc[test_index, :]\n",
    "                y_test_fold = y.iloc[test_index]\n",
    "                clone_reg.fit(X_train_folds, y_train_folds)\n",
    "                cross_y_pred = np.exp(clone_reg.predict(X_test_fold))\n",
    "                cross_y_exp = np.exp(y_test_fold)\n",
    "                cross_mae_scores.append(mean_absolute_error(cross_y_exp, cross_y_pred))\n",
    "            cross_mae_scores = np.array(cross_mae_scores)\n",
    "        else:\n",
    "            cross_mae_scores = -cross_val_score(model, X, y, cv=my_cv, scoring='neg_mean_absolute_error')\n",
    "\n",
    "        avg_mae = cross_mae_scores.mean()\n",
    "        print('Average MAE (cross-val):', round(avg_mae))\n",
    "        print('MAE (cross-val):', cross_mae_scores.round())\n",
    "    else:\n",
    "        return mae\n",
    "\n",
    "\n",
    "# Control plots for linear regression.\n",
    "def qq_plot_and_residuals (model, X, y):\n",
    "    y_pred = model.predict(X)\n",
    "    residuals = y - y_pred\n",
    "    fig, axes = plt.subplots(1, 2, figsize=(12, 6))\n",
    "\n",
    "    # QQ Plot to check if residuals follow normal distribution\n",
    "    stats.probplot(residuals, dist=\"norm\", plot=axes[0])\n",
    "    axes[0].get_lines()[0].set_color('tab:blue')\n",
    "    axes[0].get_lines()[0].set_alpha(0.4)\n",
    "    axes[0].set_title('QQ Plot - Residuals vs Normal Distribution')\n",
    "    axes[0].set_xlabel('Theoretical Quantiles')\n",
    "    axes[0].set_ylabel('Residuals')\n",
    "\n",
    "    # Residuals vs. Predicted values to check homoskedasticity\n",
    "    axes[1].scatter(y_pred, residuals, alpha=0.4, color='tab:blue')\n",
    "    axes[1].set_xlabel('Predicted values')\n",
    "    axes[1].set_ylabel('Residuals')\n",
    "    axes[1].set_title('Residuals vs. Predicted values')\n",
    "    axes[1].axhline(y=0, color='r', linestyle='--')\n",
    "\n",
    "    # Adjust layout\n",
    "    plt.tight_layout()\n",
    "    plt.show()\n",
    "\n",
    "assess_model(lin_reg, X_train, y_train)\n",
    "qq_plot_and_residuals(lin_reg, X_train, y_train)"
   ]
  },
  {
   "cell_type": "code",
   "execution_count": 7,
   "metadata": {},
   "outputs": [],
   "source": [
    "# As expected and as we can see from the above results the linear regression model is to simple for this task.\n",
    "# Additionaly conditions such as homoscedasticity of residuals and normal distribution of residuals aren't met.\n",
    "\n",
    "# Logarithmic transformation on target could improve stabilization of variance but I resigned from this approach\n",
    "#  because I'm not using linear regression anyway and other models (mostly SVR and ANN) performed worse after this\n",
    "# transformation."
   ]
  },
  {
   "cell_type": "markdown",
   "metadata": {},
   "source": [
    "## Random forest"
   ]
  },
  {
   "cell_type": "code",
   "execution_count": 32,
   "metadata": {},
   "outputs": [
    {
     "data": {
      "text/html": [
       "<div>\n",
       "<style scoped>\n",
       "    .dataframe tbody tr th:only-of-type {\n",
       "        vertical-align: middle;\n",
       "    }\n",
       "\n",
       "    .dataframe tbody tr th {\n",
       "        vertical-align: top;\n",
       "    }\n",
       "\n",
       "    .dataframe thead th {\n",
       "        text-align: right;\n",
       "    }\n",
       "</style>\n",
       "<table border=\"1\" class=\"dataframe\">\n",
       "  <thead>\n",
       "    <tr style=\"text-align: right;\">\n",
       "      <th></th>\n",
       "      <th>params</th>\n",
       "      <th>mean_test_score</th>\n",
       "      <th>std_test_score</th>\n",
       "    </tr>\n",
       "  </thead>\n",
       "  <tbody>\n",
       "    <tr>\n",
       "      <th>0</th>\n",
       "      <td>{'max_depth': 13, 'min_samples_leaf': 35}</td>\n",
       "      <td>-6.013654e+07</td>\n",
       "      <td>3.212645e+06</td>\n",
       "    </tr>\n",
       "    <tr>\n",
       "      <th>1</th>\n",
       "      <td>{'max_depth': 14, 'min_samples_leaf': 35}</td>\n",
       "      <td>-6.013659e+07</td>\n",
       "      <td>3.212593e+06</td>\n",
       "    </tr>\n",
       "    <tr>\n",
       "      <th>2</th>\n",
       "      <td>{'max_depth': 10, 'min_samples_leaf': 35}</td>\n",
       "      <td>-6.014321e+07</td>\n",
       "      <td>3.212003e+06</td>\n",
       "    </tr>\n",
       "    <tr>\n",
       "      <th>3</th>\n",
       "      <td>{'max_depth': 10, 'min_samples_leaf': 35}</td>\n",
       "      <td>-6.014321e+07</td>\n",
       "      <td>3.212003e+06</td>\n",
       "    </tr>\n",
       "    <tr>\n",
       "      <th>4</th>\n",
       "      <td>{'max_depth': 10, 'min_samples_leaf': 35}</td>\n",
       "      <td>-6.014321e+07</td>\n",
       "      <td>3.212003e+06</td>\n",
       "    </tr>\n",
       "    <tr>\n",
       "      <th>5</th>\n",
       "      <td>{'max_depth': 8, 'min_samples_leaf': 35}</td>\n",
       "      <td>-6.023065e+07</td>\n",
       "      <td>3.244160e+06</td>\n",
       "    </tr>\n",
       "    <tr>\n",
       "      <th>6</th>\n",
       "      <td>{'max_depth': 12, 'min_samples_leaf': 36}</td>\n",
       "      <td>-6.024547e+07</td>\n",
       "      <td>3.270364e+06</td>\n",
       "    </tr>\n",
       "    <tr>\n",
       "      <th>7</th>\n",
       "      <td>{'max_depth': 12, 'min_samples_leaf': 36}</td>\n",
       "      <td>-6.024547e+07</td>\n",
       "      <td>3.270364e+06</td>\n",
       "    </tr>\n",
       "    <tr>\n",
       "      <th>8</th>\n",
       "      <td>{'max_depth': 13, 'min_samples_leaf': 36}</td>\n",
       "      <td>-6.024553e+07</td>\n",
       "      <td>3.270153e+06</td>\n",
       "    </tr>\n",
       "    <tr>\n",
       "      <th>9</th>\n",
       "      <td>{'max_depth': 14, 'min_samples_leaf': 36}</td>\n",
       "      <td>-6.024558e+07</td>\n",
       "      <td>3.270101e+06</td>\n",
       "    </tr>\n",
       "  </tbody>\n",
       "</table>\n",
       "</div>"
      ],
      "text/plain": [
       "                                      params  mean_test_score  std_test_score\n",
       "0  {'max_depth': 13, 'min_samples_leaf': 35}    -6.013654e+07    3.212645e+06\n",
       "1  {'max_depth': 14, 'min_samples_leaf': 35}    -6.013659e+07    3.212593e+06\n",
       "2  {'max_depth': 10, 'min_samples_leaf': 35}    -6.014321e+07    3.212003e+06\n",
       "3  {'max_depth': 10, 'min_samples_leaf': 35}    -6.014321e+07    3.212003e+06\n",
       "4  {'max_depth': 10, 'min_samples_leaf': 35}    -6.014321e+07    3.212003e+06\n",
       "5   {'max_depth': 8, 'min_samples_leaf': 35}    -6.023065e+07    3.244160e+06\n",
       "6  {'max_depth': 12, 'min_samples_leaf': 36}    -6.024547e+07    3.270364e+06\n",
       "7  {'max_depth': 12, 'min_samples_leaf': 36}    -6.024547e+07    3.270364e+06\n",
       "8  {'max_depth': 13, 'min_samples_leaf': 36}    -6.024553e+07    3.270153e+06\n",
       "9  {'max_depth': 14, 'min_samples_leaf': 36}    -6.024558e+07    3.270101e+06"
      ]
     },
     "metadata": {},
     "output_type": "display_data"
    }
   ],
   "source": [
    "# Regularization.\n",
    "# Function to test different parameters with random search method.\n",
    "def find_best_params(model, my_params, X, y, my_n_iter=10, my_cv=5, my_scoring='neg_mean_absolute_error'):\n",
    "    rnd_search = RandomizedSearchCV(model, param_distributions=my_params,\n",
    "                                    cv=my_cv, n_iter=my_n_iter, scoring=my_scoring, random_state=42)\n",
    "    rnd_search.fit(X, y)\n",
    "    cv_results = rnd_search.cv_results_\n",
    "    results_df = pd.DataFrame(cv_results)\n",
    "    top_10 = results_df[['params', 'mean_test_score', 'std_test_score']].sort_values(by='mean_test_score', ascending=False).reset_index(drop=True).head(10)\n",
    "    display(top_10)\n",
    "    return rnd_search.best_params_\n",
    "\n",
    "# Parameters to search.\n",
    "forest_params = {\n",
    "                  'max_depth': stats.randint(low=8, high=15),\n",
    "                  # min_samples_leaf below 35 starts to drastically increase gap between train MAE and cross-val MAE.\n",
    "                  # Above this limit the gap is still quite big because around 5 million but it is stable and increases\n",
    "                  # slower than cross-val MAE falls so this is why I decided 35 leaf_samples as optimal minimum.\n",
    "                  'min_samples_leaf': stats.randint(low=35, high=50)\n",
    "                  }\n",
    "\n",
    "# Model.\n",
    "random_forest = RandomForestRegressor(random_state=42, n_jobs=-1, n_estimators=250)\n",
    "\n",
    "forest_best_params = find_best_params(random_forest, forest_params, X_train, y_train, 100)"
   ]
  },
  {
   "cell_type": "code",
   "execution_count": 33,
   "metadata": {},
   "outputs": [
    {
     "name": "stdout",
     "output_type": "stream",
     "text": [
      "Mean Absolute Error (MAE): 54967635\n",
      "Average MAE (cross-val): 60136536\n",
      "MAE (cross-val): [60066925. 61007687. 65669577. 56683167. 57255325.]\n"
     ]
    }
   ],
   "source": [
    "# Function to create and train random forest model.\n",
    "def train_forest(X, y, params_variable):\n",
    "    model = RandomForestRegressor(n_estimators=250, max_depth=params_variable['max_depth'],\n",
    "                                    min_samples_leaf=params_variable['min_samples_leaf'], n_jobs=-1, random_state=42)\n",
    "    model.fit(X, y)\n",
    "    return model\n",
    "\n",
    "best_random_forest = train_forest(X_train, y_train, forest_best_params)\n",
    "\n",
    "assess_model(best_random_forest, X_train, y_train)"
   ]
  },
  {
   "cell_type": "code",
   "execution_count": 13,
   "metadata": {},
   "outputs": [
    {
     "data": {
      "text/html": [
       "<div>\n",
       "<style scoped>\n",
       "    .dataframe tbody tr th:only-of-type {\n",
       "        vertical-align: middle;\n",
       "    }\n",
       "\n",
       "    .dataframe tbody tr th {\n",
       "        vertical-align: top;\n",
       "    }\n",
       "\n",
       "    .dataframe thead th {\n",
       "        text-align: right;\n",
       "    }\n",
       "</style>\n",
       "<table border=\"1\" class=\"dataframe\">\n",
       "  <thead>\n",
       "    <tr style=\"text-align: right;\">\n",
       "      <th></th>\n",
       "      <th>Feature</th>\n",
       "      <th>Importance</th>\n",
       "    </tr>\n",
       "  </thead>\n",
       "  <tbody>\n",
       "    <tr>\n",
       "      <th>0</th>\n",
       "      <td>Clean budget</td>\n",
       "      <td>0.877867</td>\n",
       "    </tr>\n",
       "    <tr>\n",
       "      <th>1</th>\n",
       "      <td>Previous_movie_box_office</td>\n",
       "      <td>0.054790</td>\n",
       "    </tr>\n",
       "    <tr>\n",
       "      <th>2</th>\n",
       "      <td>Part_of_franchise</td>\n",
       "      <td>0.020404</td>\n",
       "    </tr>\n",
       "    <tr>\n",
       "      <th>3</th>\n",
       "      <td>Running time</td>\n",
       "      <td>0.010380</td>\n",
       "    </tr>\n",
       "    <tr>\n",
       "      <th>4</th>\n",
       "      <td>Max_prev_box_office_director</td>\n",
       "      <td>0.010117</td>\n",
       "    </tr>\n",
       "    <tr>\n",
       "      <th>5</th>\n",
       "      <td>Prev_box_office_actors</td>\n",
       "      <td>0.005175</td>\n",
       "    </tr>\n",
       "    <tr>\n",
       "      <th>6</th>\n",
       "      <td>Avg_ratings_score_director</td>\n",
       "      <td>0.003925</td>\n",
       "    </tr>\n",
       "    <tr>\n",
       "      <th>7</th>\n",
       "      <td>Weekly_budget_ratio</td>\n",
       "      <td>0.002849</td>\n",
       "    </tr>\n",
       "    <tr>\n",
       "      <th>8</th>\n",
       "      <td>Year</td>\n",
       "      <td>0.002751</td>\n",
       "    </tr>\n",
       "    <tr>\n",
       "      <th>9</th>\n",
       "      <td>Median_main_genre_box_office</td>\n",
       "      <td>0.002170</td>\n",
       "    </tr>\n",
       "  </tbody>\n",
       "</table>\n",
       "</div>"
      ],
      "text/plain": [
       "                        Feature  Importance\n",
       "0                  Clean budget    0.877867\n",
       "1     Previous_movie_box_office    0.054790\n",
       "2             Part_of_franchise    0.020404\n",
       "3                  Running time    0.010380\n",
       "4  Max_prev_box_office_director    0.010117\n",
       "5        Prev_box_office_actors    0.005175\n",
       "6    Avg_ratings_score_director    0.003925\n",
       "7           Weekly_budget_ratio    0.002849\n",
       "8                          Year    0.002751\n",
       "9  Median_main_genre_box_office    0.002170"
      ]
     },
     "metadata": {},
     "output_type": "display_data"
    }
   ],
   "source": [
    "# Function for determing feature importance.\n",
    "def feature_importance(model, X):\n",
    "    df_feature_importances = pd.DataFrame({'Feature': X.columns, 'Importance': model.feature_importances_})\n",
    "    df_feature_importances = df_feature_importances.sort_values(by='Importance', ascending=False).reset_index(drop=True)\n",
    "    display(df_feature_importances.head(10))\n",
    "    return df_feature_importances\n",
    "\n",
    "# Feature importance for the best random forest model.\n",
    "random_forest_features = feature_importance(best_random_forest, X_train)"
   ]
  },
  {
   "cell_type": "code",
   "execution_count": 53,
   "metadata": {},
   "outputs": [
    {
     "data": {
      "text/plain": [
       "['../models/trained_random_forest_model.pkl']"
      ]
     },
     "execution_count": 53,
     "metadata": {},
     "output_type": "execute_result"
    }
   ],
   "source": [
    "# Saving model best_random_forest.\n",
    "joblib.dump(best_random_forest, '../models/trained_random_forest_model.pkl')"
   ]
  },
  {
   "cell_type": "markdown",
   "metadata": {},
   "source": [
    "## SVR"
   ]
  },
  {
   "cell_type": "code",
   "execution_count": 15,
   "metadata": {},
   "outputs": [],
   "source": [
    "# Function to remove features.\n",
    "def remove_features(X_train, X_test, features):\n",
    "    new_X_test = X_test.copy()\n",
    "    new_X_test.drop(features, axis=1, inplace=True)\n",
    "    new_X_train = X_train.copy()\n",
    "    new_X_train.drop(features, axis=1, inplace=True)\n",
    "    return new_X_train, new_X_test\n",
    "\n",
    "# Removing features with very low importance in random forest to increase performance of SVR which is very computationally heavy.\n",
    "unimportant_features = random_forest_features.loc[random_forest_features['Importance'] < 0.0021, 'Feature']\n",
    "X_train_svr, X_test_svr = remove_features(X_train, X_test, unimportant_features)"
   ]
  },
  {
   "cell_type": "code",
   "execution_count": 50,
   "metadata": {},
   "outputs": [
    {
     "data": {
      "text/html": [
       "<div>\n",
       "<style scoped>\n",
       "    .dataframe tbody tr th:only-of-type {\n",
       "        vertical-align: middle;\n",
       "    }\n",
       "\n",
       "    .dataframe tbody tr th {\n",
       "        vertical-align: top;\n",
       "    }\n",
       "\n",
       "    .dataframe thead th {\n",
       "        text-align: right;\n",
       "    }\n",
       "</style>\n",
       "<table border=\"1\" class=\"dataframe\">\n",
       "  <thead>\n",
       "    <tr style=\"text-align: right;\">\n",
       "      <th></th>\n",
       "      <th>params</th>\n",
       "      <th>mean_test_score</th>\n",
       "      <th>std_test_score</th>\n",
       "    </tr>\n",
       "  </thead>\n",
       "  <tbody>\n",
       "    <tr>\n",
       "      <th>0</th>\n",
       "      <td>{'C': 46, 'gamma': 167}</td>\n",
       "      <td>-5.676213e+07</td>\n",
       "      <td>3.639064e+06</td>\n",
       "    </tr>\n",
       "    <tr>\n",
       "      <th>1</th>\n",
       "      <td>{'C': 43, 'gamma': 168}</td>\n",
       "      <td>-5.677094e+07</td>\n",
       "      <td>3.649547e+06</td>\n",
       "    </tr>\n",
       "    <tr>\n",
       "      <th>2</th>\n",
       "      <td>{'C': 48, 'gamma': 161}</td>\n",
       "      <td>-5.677393e+07</td>\n",
       "      <td>3.651954e+06</td>\n",
       "    </tr>\n",
       "    <tr>\n",
       "      <th>3</th>\n",
       "      <td>{'C': 41, 'gamma': 169}</td>\n",
       "      <td>-5.677628e+07</td>\n",
       "      <td>3.652905e+06</td>\n",
       "    </tr>\n",
       "    <tr>\n",
       "      <th>4</th>\n",
       "      <td>{'C': 44, 'gamma': 164}</td>\n",
       "      <td>-5.678124e+07</td>\n",
       "      <td>3.652469e+06</td>\n",
       "    </tr>\n",
       "    <tr>\n",
       "      <th>5</th>\n",
       "      <td>{'C': 44, 'gamma': 161}</td>\n",
       "      <td>-5.678520e+07</td>\n",
       "      <td>3.652289e+06</td>\n",
       "    </tr>\n",
       "    <tr>\n",
       "      <th>6</th>\n",
       "      <td>{'C': 41, 'gamma': 159}</td>\n",
       "      <td>-5.678767e+07</td>\n",
       "      <td>3.659740e+06</td>\n",
       "    </tr>\n",
       "    <tr>\n",
       "      <th>7</th>\n",
       "      <td>{'C': 42, 'gamma': 158}</td>\n",
       "      <td>-5.678784e+07</td>\n",
       "      <td>3.659690e+06</td>\n",
       "    </tr>\n",
       "    <tr>\n",
       "      <th>8</th>\n",
       "      <td>{'C': 44, 'gamma': 155}</td>\n",
       "      <td>-5.678794e+07</td>\n",
       "      <td>3.659617e+06</td>\n",
       "    </tr>\n",
       "    <tr>\n",
       "      <th>9</th>\n",
       "      <td>{'C': 38, 'gamma': 168}</td>\n",
       "      <td>-5.678839e+07</td>\n",
       "      <td>3.654798e+06</td>\n",
       "    </tr>\n",
       "  </tbody>\n",
       "</table>\n",
       "</div>"
      ],
      "text/plain": [
       "                    params  mean_test_score  std_test_score\n",
       "0  {'C': 46, 'gamma': 167}    -5.676213e+07    3.639064e+06\n",
       "1  {'C': 43, 'gamma': 168}    -5.677094e+07    3.649547e+06\n",
       "2  {'C': 48, 'gamma': 161}    -5.677393e+07    3.651954e+06\n",
       "3  {'C': 41, 'gamma': 169}    -5.677628e+07    3.652905e+06\n",
       "4  {'C': 44, 'gamma': 164}    -5.678124e+07    3.652469e+06\n",
       "5  {'C': 44, 'gamma': 161}    -5.678520e+07    3.652289e+06\n",
       "6  {'C': 41, 'gamma': 159}    -5.678767e+07    3.659740e+06\n",
       "7  {'C': 42, 'gamma': 158}    -5.678784e+07    3.659690e+06\n",
       "8  {'C': 44, 'gamma': 155}    -5.678794e+07    3.659617e+06\n",
       "9  {'C': 38, 'gamma': 168}    -5.678839e+07    3.654798e+06"
      ]
     },
     "metadata": {},
     "output_type": "display_data"
    }
   ],
   "source": [
    "# The third degree polynomial performed the best out of (2-4 degree), so I took it out of parameters search.\n",
    "svr_model = SVR(kernel='poly', degree=3)\n",
    "\n",
    "# Parameters to search.\n",
    "svm_params = {\n",
    "                  'gamma': stats.randint(low=130, high=170),\n",
    "                  'C': stats.randint(low=30, high=50),\n",
    "                  }\n",
    "\n",
    "# Regularization.\n",
    "# Searching for best parameters with random search method.\n",
    "svr_best_params = find_best_params(svr_model, svm_params, X_train_svr, y_train, 100)"
   ]
  },
  {
   "cell_type": "code",
   "execution_count": 51,
   "metadata": {},
   "outputs": [
    {
     "name": "stdout",
     "output_type": "stream",
     "text": [
      "Mean Absolute Error (MAE): 53413116\n",
      "Average MAE (cross-val): 56762129\n",
      "MAE (cross-val): [52946440. 56405582. 63660378. 55063015. 55735230.]\n"
     ]
    }
   ],
   "source": [
    "# Function to create and train SVM model.\n",
    "def train_svr(X, y, params_variable):\n",
    "    model = SVR(kernel='poly', gamma=params_variable['gamma'], C=params_variable['C'])\n",
    "    model.fit(X, y)\n",
    "    return model\n",
    "\n",
    "best_svr = train_svr(X_train_svr, y_train, svr_best_params)\n",
    "\n",
    "# Assessing SVR model.\n",
    "assess_model(best_svr, X_train_svr, y_train)"
   ]
  },
  {
   "cell_type": "code",
   "execution_count": 52,
   "metadata": {},
   "outputs": [
    {
     "data": {
      "text/plain": [
       "['../models/trained_svr_model.pkl']"
      ]
     },
     "execution_count": 52,
     "metadata": {},
     "output_type": "execute_result"
    }
   ],
   "source": [
    "# Despite using only 10 features in this model we can see significant improvement over random forest.\n",
    "# Additionaly there is decrease in difference between train and cross_val sets so this model is less overfitted.\n",
    "\n",
    "# Saving model best_svm.\n",
    "joblib.dump(best_svr, '../models/trained_svr_model.pkl')"
   ]
  },
  {
   "cell_type": "markdown",
   "metadata": {},
   "source": [
    "## Artificial neural network"
   ]
  },
  {
   "cell_type": "code",
   "execution_count": 54,
   "metadata": {},
   "outputs": [
    {
     "name": "stdout",
     "output_type": "stream",
     "text": [
      "Trial 90 Complete [00h 00m 20s]\n",
      "val_loss: 70538080.0\n",
      "\n",
      "Best val_loss So Far: 54725612.0\n",
      "Total elapsed time: 00h 15m 26s\n"
     ]
    },
    {
     "name": "stderr",
     "output_type": "stream",
     "text": [
      "d:\\NAUKA\\My_projects\\box_office_project\\project_env\\Lib\\site-packages\\keras_tuner\\src\\tuners\\hyperband.py:435: UserWarning: Model 'sequential' had a build config, but the model cannot be built automatically in `build_from_config(config)`. You should implement `def build_from_config(self, config)`, and you might also want to implement the method  that generates the config at saving time, `def get_build_config(self)`. The method `build_from_config()` is meant to create the state of the model (i.e. its variables) upon deserialization.\n",
      "  model.build_from_config(\n",
      "d:\\NAUKA\\My_projects\\box_office_project\\project_env\\Lib\\site-packages\\keras\\src\\saving\\saving_lib.py:418: UserWarning: Skipping variable loading for optimizer 'adam', because it has 2 variables whereas the saved optimizer has 34 variables. \n",
      "  trackable.load_own_variables(weights_store.get(inner_path))\n"
     ]
    },
    {
     "name": "stdout",
     "output_type": "stream",
     "text": [
      "\u001b[1m25/25\u001b[0m \u001b[32m━━━━━━━━━━━━━━━━━━━━\u001b[0m\u001b[37m\u001b[0m \u001b[1m0s\u001b[0m 3ms/step - loss: 56922820.0000\n",
      "Batch size: 32, Validation Loss: 54356992.0,\n",
      "Params: {'n_hidden': 7, 'n_neurons': 512, 'learning_rate': 0.0007970790759235166, 'tuner/epochs': 15, 'tuner/initial_epoch': 5, 'tuner/bracket': 2, 'tuner/round': 2, 'tuner/trial_id': '0072'}\n",
      "Batch size: 64, Validation Loss: 54725600.0,\n",
      "Params: {'n_hidden': 7, 'n_neurons': 384, 'learning_rate': 0.0009498462725730985, 'tuner/epochs': 15, 'tuner/initial_epoch': 5, 'tuner/bracket': 1, 'tuner/round': 1, 'tuner/trial_id': '0050'}\n"
     ]
    }
   ],
   "source": [
    "# Function to determine limits for parameters.\n",
    "def build_model(hp):\n",
    "    # Defining the range of values for each hyperparameter.\n",
    "    n_hidden = hp.Int('n_hidden', min_value=3, max_value=7)\n",
    "    n_neurons = hp.Int('n_neurons', min_value=64, max_value=512, step=32)\n",
    "    learning_rate = hp.Float('learning_rate', min_value=1e-4, max_value=1e-3, sampling='log')\n",
    "    \n",
    "    optimizer = tf.keras.optimizers.Adam(learning_rate=learning_rate)\n",
    "    model = tf.keras.Sequential()\n",
    "    model.add(tf.keras.layers.InputLayer(shape=(48,)))\n",
    "    for _ in range(n_hidden):\n",
    "        model.add(tf.keras.layers.Dense(n_neurons, activation='relu'))\n",
    "    model.add(tf.keras.layers.Dense(1))\n",
    "    model.compile(loss='mean_absolute_error', optimizer=optimizer)\n",
    "    return model\n",
    "\n",
    "# Splitting train data to train and validation set.\n",
    "X_part_train_ann, X_val_ann, y_part_train_ann, y_val_ann = train_test_split(X_train, y_train, test_size=0.2, random_state=42)\n",
    "\n",
    "# Looking for optimal parameters with hyperband tuner. Objective is set to minimize MAE on validation dataset. \n",
    "# Batch sizes to check.\n",
    "batch_sizes = [32, 64]\n",
    "results = []\n",
    "for batch_size in batch_sizes:\n",
    "    hyperband_tuner = kt.Hyperband(build_model, objective='val_loss', seed=42, max_epochs=15, factor=3, hyperband_iterations=3,\n",
    "                                overwrite=True, directory='../models', project_name=f'training_ann_models_{batch_size}')\n",
    "\n",
    "    # Defining the directory for TensorBoard logs.\n",
    "    root_logdir = f'../models/training_ann_models_{batch_size}/tensorboard'\n",
    "    tensorboard_cb = tf.keras.callbacks.TensorBoard(root_logdir)\n",
    "\n",
    "    # Early stopping to halt training if no improvement is seen.\n",
    "    stop_early = tf.keras.callbacks.EarlyStopping(patience=3)\n",
    "\n",
    "    # Searching for the best parameters.\n",
    "    hyperband_tuner.search(X_part_train_ann, y_part_train_ann, validation_data=(X_val_ann, y_val_ann), callbacks=[stop_early, tensorboard_cb], batch_size=batch_size)\n",
    "\n",
    "    # Validating the best model for every batch size and saving it in the list.\n",
    "    best_model = hyperband_tuner.get_best_models(num_models=1)[0]\n",
    "    val_mae = best_model.evaluate(X_val_ann, y_val_ann)\n",
    "    results.append({'batch_size': batch_size, 'params': hyperband_tuner.get_best_hyperparameters(num_trials=1)[0], 'val_mae': val_mae})\n",
    "\n",
    "    tf.keras.backend.clear_session()\n",
    "\n",
    "# Printing the best results for every batch size.\n",
    "for result in results:\n",
    "    print(f\"Batch size: {result['batch_size']}, Validation Loss: {result['val_mae']},\\nParams: {result['params'].values}\")"
   ]
  },
  {
   "cell_type": "code",
   "execution_count": 90,
   "metadata": {},
   "outputs": [
    {
     "name": "stdout",
     "output_type": "stream",
     "text": [
      "Epoch 1/25\n",
      "\u001b[1m97/97\u001b[0m \u001b[32m━━━━━━━━━━━━━━━━━━━━\u001b[0m\u001b[37m\u001b[0m \u001b[1m5s\u001b[0m 23ms/step - loss: 101327456.0000 - val_loss: 76570472.0000\n",
      "Epoch 2/25\n",
      "\u001b[1m97/97\u001b[0m \u001b[32m━━━━━━━━━━━━━━━━━━━━\u001b[0m\u001b[37m\u001b[0m \u001b[1m2s\u001b[0m 21ms/step - loss: 74815416.0000 - val_loss: 65988652.0000\n",
      "Epoch 3/25\n",
      "\u001b[1m97/97\u001b[0m \u001b[32m━━━━━━━━━━━━━━━━━━━━\u001b[0m\u001b[37m\u001b[0m \u001b[1m2s\u001b[0m 21ms/step - loss: 64369444.0000 - val_loss: 60639116.0000\n",
      "Epoch 4/25\n",
      "\u001b[1m97/97\u001b[0m \u001b[32m━━━━━━━━━━━━━━━━━━━━\u001b[0m\u001b[37m\u001b[0m \u001b[1m2s\u001b[0m 21ms/step - loss: 60437424.0000 - val_loss: 57488568.0000\n",
      "Epoch 5/25\n",
      "\u001b[1m97/97\u001b[0m \u001b[32m━━━━━━━━━━━━━━━━━━━━\u001b[0m\u001b[37m\u001b[0m \u001b[1m3s\u001b[0m 22ms/step - loss: 54396564.0000 - val_loss: 55165012.0000\n",
      "Epoch 6/25\n",
      "\u001b[1m97/97\u001b[0m \u001b[32m━━━━━━━━━━━━━━━━━━━━\u001b[0m\u001b[37m\u001b[0m \u001b[1m2s\u001b[0m 21ms/step - loss: 54924340.0000 - val_loss: 55801660.0000\n",
      "Epoch 7/25\n",
      "\u001b[1m97/97\u001b[0m \u001b[32m━━━━━━━━━━━━━━━━━━━━\u001b[0m\u001b[37m\u001b[0m \u001b[1m2s\u001b[0m 22ms/step - loss: 54290032.0000 - val_loss: 57966440.0000\n",
      "Epoch 8/25\n",
      "\u001b[1m97/97\u001b[0m \u001b[32m━━━━━━━━━━━━━━━━━━━━\u001b[0m\u001b[37m\u001b[0m \u001b[1m3s\u001b[0m 26ms/step - loss: 53115420.0000 - val_loss: 54982512.0000\n",
      "Epoch 9/25\n",
      "\u001b[1m97/97\u001b[0m \u001b[32m━━━━━━━━━━━━━━━━━━━━\u001b[0m\u001b[37m\u001b[0m \u001b[1m2s\u001b[0m 22ms/step - loss: 53848976.0000 - val_loss: 55088372.0000\n",
      "Epoch 10/25\n",
      "\u001b[1m97/97\u001b[0m \u001b[32m━━━━━━━━━━━━━━━━━━━━\u001b[0m\u001b[37m\u001b[0m \u001b[1m3s\u001b[0m 22ms/step - loss: 51638508.0000 - val_loss: 55066336.0000\n",
      "Epoch 11/25\n",
      "\u001b[1m97/97\u001b[0m \u001b[32m━━━━━━━━━━━━━━━━━━━━\u001b[0m\u001b[37m\u001b[0m \u001b[1m3s\u001b[0m 23ms/step - loss: 58839076.0000 - val_loss: 54679156.0000\n",
      "Epoch 12/25\n",
      "\u001b[1m97/97\u001b[0m \u001b[32m━━━━━━━━━━━━━━━━━━━━\u001b[0m\u001b[37m\u001b[0m \u001b[1m2s\u001b[0m 22ms/step - loss: 51528700.0000 - val_loss: 55211012.0000\n",
      "Epoch 13/25\n",
      "\u001b[1m97/97\u001b[0m \u001b[32m━━━━━━━━━━━━━━━━━━━━\u001b[0m\u001b[37m\u001b[0m \u001b[1m2s\u001b[0m 23ms/step - loss: 48453588.0000 - val_loss: 55113108.0000\n",
      "Epoch 14/25\n",
      "\u001b[1m97/97\u001b[0m \u001b[32m━━━━━━━━━━━━━━━━━━━━\u001b[0m\u001b[37m\u001b[0m \u001b[1m2s\u001b[0m 23ms/step - loss: 50601428.0000 - val_loss: 54803064.0000\n",
      "Epoch 15/25\n",
      "\u001b[1m97/97\u001b[0m \u001b[32m━━━━━━━━━━━━━━━━━━━━\u001b[0m\u001b[37m\u001b[0m \u001b[1m3s\u001b[0m 26ms/step - loss: 48588360.0000 - val_loss: 55212408.0000\n",
      "Epoch 16/25\n",
      "\u001b[1m97/97\u001b[0m \u001b[32m━━━━━━━━━━━━━━━━━━━━\u001b[0m\u001b[37m\u001b[0m \u001b[1m2s\u001b[0m 22ms/step - loss: 47331768.0000 - val_loss: 55484660.0000\n",
      "Epoch 17/25\n",
      "\u001b[1m97/97\u001b[0m \u001b[32m━━━━━━━━━━━━━━━━━━━━\u001b[0m\u001b[37m\u001b[0m \u001b[1m3s\u001b[0m 22ms/step - loss: 48370060.0000 - val_loss: 54861012.0000\n",
      "Epoch 18/25\n",
      "\u001b[1m97/97\u001b[0m \u001b[32m━━━━━━━━━━━━━━━━━━━━\u001b[0m\u001b[37m\u001b[0m \u001b[1m3s\u001b[0m 22ms/step - loss: 47418884.0000 - val_loss: 55570576.0000\n",
      "Epoch 19/25\n",
      "\u001b[1m97/97\u001b[0m \u001b[32m━━━━━━━━━━━━━━━━━━━━\u001b[0m\u001b[37m\u001b[0m \u001b[1m2s\u001b[0m 22ms/step - loss: 44198824.0000 - val_loss: 55656576.0000\n",
      "Epoch 20/25\n",
      "\u001b[1m97/97\u001b[0m \u001b[32m━━━━━━━━━━━━━━━━━━━━\u001b[0m\u001b[37m\u001b[0m \u001b[1m2s\u001b[0m 22ms/step - loss: 47070008.0000 - val_loss: 54627164.0000\n",
      "Epoch 21/25\n",
      "\u001b[1m97/97\u001b[0m \u001b[32m━━━━━━━━━━━━━━━━━━━━\u001b[0m\u001b[37m\u001b[0m \u001b[1m3s\u001b[0m 22ms/step - loss: 47548320.0000 - val_loss: 57882720.0000\n",
      "Epoch 22/25\n",
      "\u001b[1m97/97\u001b[0m \u001b[32m━━━━━━━━━━━━━━━━━━━━\u001b[0m\u001b[37m\u001b[0m \u001b[1m3s\u001b[0m 26ms/step - loss: 46172100.0000 - val_loss: 55363176.0000\n",
      "Epoch 23/25\n",
      "\u001b[1m97/97\u001b[0m \u001b[32m━━━━━━━━━━━━━━━━━━━━\u001b[0m\u001b[37m\u001b[0m \u001b[1m3s\u001b[0m 23ms/step - loss: 48632112.0000 - val_loss: 55671776.0000\n",
      "Epoch 24/25\n",
      "\u001b[1m97/97\u001b[0m \u001b[32m━━━━━━━━━━━━━━━━━━━━\u001b[0m\u001b[37m\u001b[0m \u001b[1m3s\u001b[0m 22ms/step - loss: 44733092.0000 - val_loss: 56805088.0000\n",
      "Epoch 25/25\n",
      "\u001b[1m97/97\u001b[0m \u001b[32m━━━━━━━━━━━━━━━━━━━━\u001b[0m\u001b[37m\u001b[0m \u001b[1m2s\u001b[0m 22ms/step - loss: 44207588.0000 - val_loss: 56507744.0000\n"
     ]
    }
   ],
   "source": [
    "# Looking at the best models of 32 and 64 batch sizes I decided to choose model witch 32 batch size because\n",
    "# it was more stable when comparing training and validation datasets.\n",
    "\n",
    "# Training new model using the best parameters from previous step and finding optimal number of epochs.\n",
    "best_hyperparams = results[0]['params']\n",
    "new_model_ann = hyperband_tuner.hypermodel.build(best_hyperparams)\n",
    "history = new_model_ann.fit(X_part_train_ann, y_part_train_ann, epochs=25, validation_data=(X_val_ann, y_val_ann), batch_size=32)"
   ]
  },
  {
   "cell_type": "code",
   "execution_count": 91,
   "metadata": {},
   "outputs": [
    {
     "data": {
      "image/png": "[encoded data removed]",
      "text/plain": [
       "<Figure size 800x500 with 1 Axes>"
      ]
     },
     "metadata": {},
     "output_type": "display_data"
    }
   ],
   "source": [
    "# Vizualization of learning process for the new ANN model.\n",
    "pd.DataFrame(history.history).plot(\n",
    "    figsize=(8, 5), grid=True, xlabel='Epoch', style=['r-', 'b--'])\n",
    "plt.show()"
   ]
  },
  {
   "cell_type": "code",
   "execution_count": 105,
   "metadata": {},
   "outputs": [
    {
     "name": "stdout",
     "output_type": "stream",
     "text": [
      "Epoch 1/4\n",
      "\u001b[1m121/121\u001b[0m \u001b[32m━━━━━━━━━━━━━━━━━━━━\u001b[0m\u001b[37m\u001b[0m \u001b[1m6s\u001b[0m 26ms/step - loss: 107188496.0000\n",
      "Epoch 2/4\n",
      "\u001b[1m121/121\u001b[0m \u001b[32m━━━━━━━━━━━━━━━━━━━━\u001b[0m\u001b[37m\u001b[0m \u001b[1m5s\u001b[0m 24ms/step - loss: 70491440.0000\n",
      "Epoch 3/4\n",
      "\u001b[1m121/121\u001b[0m \u001b[32m━━━━━━━━━━━━━━━━━━━━\u001b[0m\u001b[37m\u001b[0m \u001b[1m3s\u001b[0m 22ms/step - loss: 60690876.0000\n",
      "Epoch 4/4\n",
      "\u001b[1m121/121\u001b[0m \u001b[32m━━━━━━━━━━━━━━━━━━━━\u001b[0m\u001b[37m\u001b[0m \u001b[1m3s\u001b[0m 22ms/step - loss: 54426504.0000\n"
     ]
    }
   ],
   "source": [
    "# As seen on the above vizualization MAE's of train and validation sets meet on the 4th epoch.\n",
    "# This is why I choose to train final model for 4 epochs using early stopping as reguralization method.\n",
    "# Final model is trained on the full training dataset.\n",
    "best_ann = hyperband_tuner.hypermodel.build(best_hyperparams)\n",
    "best_ann.fit(X_train, y_train, epochs=4, batch_size=32)\n",
    "\n",
    "# Saving model best_ann.\n",
    "best_ann.save('../models/trained_neural_network_model.keras')"
   ]
  },
  {
   "cell_type": "markdown",
   "metadata": {},
   "source": [
    "## Models evaluation on test dataset"
   ]
  },
  {
   "cell_type": "code",
   "execution_count": 17,
   "metadata": {},
   "outputs": [
    {
     "name": "stdout",
     "output_type": "stream",
     "text": [
      "\u001b[1m121/121\u001b[0m \u001b[32m━━━━━━━━━━━━━━━━━━━━\u001b[0m\u001b[37m\u001b[0m \u001b[1m2s\u001b[0m 5ms/step\n",
      "\u001b[1m30/30\u001b[0m \u001b[32m━━━━━━━━━━━━━━━━━━━━\u001b[0m\u001b[37m\u001b[0m \u001b[1m0s\u001b[0m 3ms/step\n"
     ]
    },
    {
     "data": {
      "text/html": [
       "<div>\n",
       "<style scoped>\n",
       "    .dataframe tbody tr th:only-of-type {\n",
       "        vertical-align: middle;\n",
       "    }\n",
       "\n",
       "    .dataframe tbody tr th {\n",
       "        vertical-align: top;\n",
       "    }\n",
       "\n",
       "    .dataframe thead th {\n",
       "        text-align: right;\n",
       "    }\n",
       "</style>\n",
       "<table border=\"1\" class=\"dataframe\">\n",
       "  <thead>\n",
       "    <tr style=\"text-align: right;\">\n",
       "      <th></th>\n",
       "      <th>Random forest</th>\n",
       "      <th>SVR</th>\n",
       "      <th>Neural network</th>\n",
       "    </tr>\n",
       "  </thead>\n",
       "  <tbody>\n",
       "    <tr>\n",
       "      <th>MAE on train dataset</th>\n",
       "      <td>5.496764e+07</td>\n",
       "      <td>5.341312e+07</td>\n",
       "      <td>5.400206e+07</td>\n",
       "    </tr>\n",
       "    <tr>\n",
       "      <th>MAE on test dataset</th>\n",
       "      <td>6.330592e+07</td>\n",
       "      <td>5.654148e+07</td>\n",
       "      <td>5.536011e+07</td>\n",
       "    </tr>\n",
       "  </tbody>\n",
       "</table>\n",
       "</div>"
      ],
      "text/plain": [
       "                      Random forest           SVR  Neural network\n",
       "MAE on train dataset   5.496764e+07  5.341312e+07    5.400206e+07\n",
       "MAE on test dataset    6.330592e+07  5.654148e+07    5.536011e+07"
      ]
     },
     "metadata": {},
     "output_type": "display_data"
    }
   ],
   "source": [
    "# After examining the results of the training and validation sets, I would rank the models as follows:\n",
    "# 1. ANN, 2. SVR, 3. random forest with ANN having similar MAE to SVR but greatly surpassing it on the ability\n",
    "# of generalization (the difference between train and validation sets was the smallest).\n",
    "\n",
    "# But let's check performance of all 3 models on test dataset.\n",
    "\n",
    "# Loading best random forest and SVR models.\n",
    "best_forest = joblib.load('../models/trained_random_forest_model.pkl')\n",
    "best_svr = joblib.load('../models/trained_svr_model.pkl')\n",
    "best_ann = tf.keras.models.load_model('../models/trained_neural_network_model.keras')\n",
    "\n",
    "# Reults on train dataset.\n",
    "mae_random_forest_train = assess_model(best_forest, X_train, y_train, cross_val_and_print=False)\n",
    "mae_svr_train = assess_model(best_svr, X_train_svr, y_train, cross_val_and_print=False)\n",
    "mae_ann_train = assess_model(best_ann, X_train, y_train, cross_val_and_print=False)\n",
    "\n",
    "# Evaluation of models on test dataset.\n",
    "mae_random_forest = assess_model(best_forest, X_test, y_test, cross_val_and_print=False)\n",
    "mae_svr = assess_model(best_svr, X_test_svr, y_test, cross_val_and_print=False)\n",
    "mae_ann = assess_model(best_ann, X_test, y_test, cross_val_and_print=False)\n",
    "\n",
    "# Displaying statistics as DataFrame.\n",
    "test_results = pd.DataFrame({'Random forest': [mae_random_forest_train, mae_random_forest], 'SVR': [mae_svr_train, mae_svr],\n",
    "                             'Neural network': [mae_ann_train, mae_ann]})\n",
    "test_results.index = ['MAE on train dataset', 'MAE on test dataset']\n",
    "display(test_results)"
   ]
  },
  {
   "cell_type": "code",
   "execution_count": null,
   "metadata": {},
   "outputs": [],
   "source": [
    "def mean_absolute_percentage_error(y_true, y_pred): \n",
    "    y_true, y_pred = np.array(y_true), np.array(y_pred)\n",
    "    return np.mean(np.abs((y_true - y_pred) / y_true)) * 100\n",
    "\n",
    "y_pred = best_ann.predict(X_test)\n",
    "mape = mean_absolute_percentage_error(y_test, y_pred)"
   ]
  },
  {
   "cell_type": "markdown",
   "metadata": {},
   "source": [
    "The models performed as anticipated on the test dataset. Once again, Random Forest emerged as the least favorable solution for this task,  \n",
    "exhibiting a poor ability to generalize. It is evident that the model is overfitted to the training dataset, with performance on the test data lagging  \n",
    "by over 8 million dollars. SVR model was better than random forest but achieved much worse MAE on test set than during cross-validation also  \n",
    "appearing to have problem with generalization. ANN, on the other hand, demonstrated very good performance, consistently showcasing superior  \n",
    "generalization capabilities. Therefore, I would choose it as the ultimate product of this project."
   ]
  },
  {
   "cell_type": "code",
   "execution_count": 18,
   "metadata": {},
   "outputs": [
    {
     "name": "stdout",
     "output_type": "stream",
     "text": [
      "Final MAE (test): 5.54e+07\n",
      "Minimum value: 5.88e+02\n",
      "Maximum value: 2.92e+09\n",
      "Median: 3.14e+07\n",
      "Mean: 1.03e+08\n",
      "Standard deviation: 2.03e+08\n"
     ]
    }
   ],
   "source": [
    "# Comparing MAE of the final model with descriptive statistics of full dataset.\n",
    "y_combined = np.concatenate((y_train, y_test))\n",
    "print(f\"Final MAE (test): {mae_ann:.2e}\")\n",
    "print(f\"Minimum value: {np.min(y_combined):.2e}\")\n",
    "print(f\"Maximum value: {np.max(y_combined):.2e}\")\n",
    "print(f\"Median: {np.median(y_combined):.2e}\")\n",
    "print(f\"Mean: {np.mean(y_combined):.2e}\")\n",
    "print(f\"Standard deviation: {np.std(y_combined):.2e}\")"
   ]
  },
  {
   "cell_type": "markdown",
   "metadata": {},
   "source": [
    "The final MAE is noticeably higher than the median, suggesting room for improvement in the model's performance. However, it's crucial to acknowledge  \n",
    "the significant spread in the data, with the minimum value at 588 and the maximum nearing 3 billion. This wide range contributes to a high standard  \n",
    "deviation of over 200 million.\n",
    "\n",
    "The model could certainly benefit greatly from insights into the marketing strategies employed for these movies, especially the costs of marketing.  \n",
    "Unfortunately, such critical information is often tightly guarded by movie studios and rarely available to public."
   ]
  }
 ],
 "metadata": {
  "kernelspec": {
   "display_name": "project_env",
   "language": "python",
   "name": "python3"
  },
  "language_info": {
   "codemirror_mode": {
    "name": "ipython",
    "version": 3
   },
   "file_extension": ".py",
   "mimetype": "text/x-python",
   "name": "python",
   "nbconvert_exporter": "python",
   "pygments_lexer": "ipython3",
   "version": "3.11.4"
  }
 },
 "nbformat": 4,
 "nbformat_minor": 2
}
